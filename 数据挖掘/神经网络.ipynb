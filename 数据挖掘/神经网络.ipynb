{
 "cells": [
  {
   "cell_type": "markdown",
   "metadata": {},
   "source": [
    "# 导入所需库"
   ]
  },
  {
   "cell_type": "code",
   "execution_count": 15,
   "metadata": {},
   "outputs": [],
   "source": [
    "import numpy as np\n",
    "import time"
   ]
  },
  {
   "cell_type": "markdown",
   "metadata": {},
   "source": [
    "# 数据准备"
   ]
  },
  {
   "cell_type": "markdown",
   "metadata": {},
   "source": [
    "## 加载数据集"
   ]
  },
  {
   "cell_type": "code",
   "execution_count": 16,
   "metadata": {},
   "outputs": [],
   "source": [
    "from sklearn.datasets import load_digits\n",
    "digits = load_digits()"
   ]
  },
  {
   "cell_type": "markdown",
   "metadata": {},
   "source": [
    "## 数据探索"
   ]
  },
  {
   "cell_type": "code",
   "execution_count": 17,
   "metadata": {},
   "outputs": [
    {
     "data": {
      "text/plain": [
       "dict_keys(['data', 'target', 'frame', 'feature_names', 'target_names', 'images', 'DESCR'])"
      ]
     },
     "execution_count": 17,
     "metadata": {},
     "output_type": "execute_result"
    }
   ],
   "source": [
    "digits.keys()"
   ]
  },
  {
   "cell_type": "code",
   "execution_count": 18,
   "metadata": {},
   "outputs": [
    {
     "data": {
      "text/plain": [
       "(array([[ 0.,  0.,  5., ...,  0.,  0.,  0.],\n",
       "        [ 0.,  0.,  0., ..., 10.,  0.,  0.],\n",
       "        [ 0.,  0.,  0., ..., 16.,  9.,  0.],\n",
       "        ...,\n",
       "        [ 0.,  0.,  1., ...,  6.,  0.,  0.],\n",
       "        [ 0.,  0.,  2., ..., 12.,  0.,  0.],\n",
       "        [ 0.,  0., 10., ..., 12.,  1.,  0.]]),\n",
       " array([0, 1, 2, ..., 8, 9, 8]))"
      ]
     },
     "execution_count": 18,
     "metadata": {},
     "output_type": "execute_result"
    }
   ],
   "source": [
    "data = digits.data\n",
    "labels = digits.target\n",
    "data , labels"
   ]
  },
  {
   "cell_type": "markdown",
   "metadata": {},
   "source": [
    "## 展示数字"
   ]
  },
  {
   "cell_type": "code",
   "execution_count": 19,
   "metadata": {},
   "outputs": [
    {
     "data": {
      "image/png": "[encoded data removed]",
      "text/plain": [
       "<Figure size 432x288 with 1 Axes>"
      ]
     },
     "metadata": {
      "needs_background": "light"
     },
     "output_type": "display_data"
    },
    {
     "name": "stdout",
     "output_type": "stream",
     "text": [
      "4\n"
     ]
    }
   ],
   "source": [
    "#展示数字\n",
    "from matplotlib import pyplot as plt \n",
    "\n",
    "def showImage(image):\n",
    "    plt.gray()\n",
    "    plt.imshow(digits.images[i])\n",
    "    plt.show()\n",
    "    \n",
    "i=100   \n",
    "showImage(data[i])\n",
    "print(labels[i])"
   ]
  },
  {
   "cell_type": "markdown",
   "metadata": {},
   "source": [
    "## 分割数据集"
   ]
  },
  {
   "cell_type": "code",
   "execution_count": 233,
   "metadata": {},
   "outputs": [],
   "source": [
    "from sklearn.model_selection import train_test_split\n",
    "train_x , test_x , train_y , test_y = train_test_split(data,labels,test_size=0.25, random_state=33)"
   ]
  },
  {
   "cell_type": "markdown",
   "metadata": {},
   "source": [
    "## 另一个数据集"
   ]
  },
  {
   "cell_type": "code",
   "execution_count": 20,
   "metadata": {},
   "outputs": [],
   "source": [
    "import pandas as pd\n",
    "trainData = pd.read_csv('mnist_train.csv')\n",
    "testData = pd.read_csv('mnist_test.csv')\n",
    "train_x = np.array(trainData)[:,1:]\n",
    "train_y = np.array(trainData)[:,0]\n",
    "test_x = np.array(testData)[:,1:]\n",
    "test_y = np.array(testData)[:,0]"
   ]
  },
  {
   "cell_type": "markdown",
   "metadata": {},
   "source": [
    "## 观察输入数据的格式"
   ]
  },
  {
   "cell_type": "code",
   "execution_count": 21,
   "metadata": {},
   "outputs": [
    {
     "name": "stdout",
     "output_type": "stream",
     "text": [
      "train_x: (59999, 784)\n",
      "train_y: (59999,)\n",
      "test_x: (9999, 784)\n",
      "test_y: (9999,)\n"
     ]
    }
   ],
   "source": [
    "print('train_x:',train_x.shape)\n",
    "print('train_y:',train_y.shape)\n",
    "print('test_x:',test_x.shape)\n",
    "print('test_y:',test_y.shape)"
   ]
  },
  {
   "cell_type": "markdown",
   "metadata": {},
   "source": [
    "# 数据预处理"
   ]
  },
  {
   "cell_type": "markdown",
   "metadata": {},
   "source": [
    "## 归一化"
   ]
  },
  {
   "cell_type": "code",
   "execution_count": 14,
   "metadata": {},
   "outputs": [],
   "source": [
    "def normalization(data):\n",
    "    newdata=np.zeros((data.shape[0],data.shape[1]))\n",
    "    colNum = data.shape[1]\n",
    "    for col in range(colNum):\n",
    "        MAX = np.max(data[:,col])\n",
    "        MIN = np.min(data[:,col])\n",
    "        for row in range(data.shape[0]):\n",
    "            newdata[row][col] = (data[row][col]-MIN)/(MAX-MIN)\n",
    "    return newdata"
   ]
  },
  {
   "cell_type": "markdown",
   "metadata": {},
   "source": [
    "## 标准化"
   ]
  },
  {
   "cell_type": "code",
   "execution_count": 15,
   "metadata": {},
   "outputs": [],
   "source": [
    "def standardization(data):\n",
    "    newdata=np.zeros((data.shape[0],data.shape[1]))\n",
    "    colNum = data.shape[1]\n",
    "    for col in range(colNum):\n",
    "        mean = np.mean(data[:,col])\n",
    "        std = np.std(data[:,col])\n",
    "        for row in range(data.shape[0]):\n",
    "            newdata[row][col] = (data[row][col]-mean)/std\n",
    "    return newdata"
   ]
  },
  {
   "cell_type": "markdown",
   "metadata": {},
   "source": [
    "## 二值化"
   ]
  },
  {
   "cell_type": "code",
   "execution_count": 115,
   "metadata": {},
   "outputs": [],
   "source": [
    "def binary(data):\n",
    "    for i in range(len(data)):\n",
    "        for j in range(len(data[i])):\n",
    "            if data[i][j]>0:\n",
    "                data[i][j]=1\n",
    "            else:\n",
    "                data[i][j]=0.01\n",
    "    return data\n",
    "    "
   ]
  },
  {
   "cell_type": "code",
   "execution_count": 116,
   "metadata": {},
   "outputs": [
    {
     "name": "stderr",
     "output_type": "stream",
     "text": [
      "<ipython-input-14-f11de6d1075a>:8: RuntimeWarning: invalid value encountered in double_scalars\n",
      "  newdata[row][col] = (data[row][col]-MIN)/(MAX-MIN)\n"
     ]
    },
    {
     "data": {
      "text/plain": [
       "(1347, 64)"
      ]
     },
     "execution_count": 116,
     "metadata": {},
     "output_type": "execute_result"
    }
   ],
   "source": [
    "train_x = normalization(train_x)\n",
    "test_x = normalization(test_x)\n",
    "train_x.shape"
   ]
  },
  {
   "cell_type": "markdown",
   "metadata": {},
   "source": [
    "# 激活函数部分"
   ]
  },
  {
   "cell_type": "code",
   "execution_count": 22,
   "metadata": {},
   "outputs": [],
   "source": [
    "def sigmoid(x):\n",
    "    return 1 / (1 + np.exp(-x))"
   ]
  },
  {
   "cell_type": "markdown",
   "metadata": {},
   "source": [
    "# 网络结构"
   ]
  },
  {
   "cell_type": "code",
   "execution_count": 27,
   "metadata": {},
   "outputs": [],
   "source": [
    "# 创建神经网络类，以便于实例化成不同的实例\n",
    "class NeuralNetwork:\n",
    "    def __init__(self,epoch_num, input_nodes, hidden_nodes, output_nodes=10, learning_rate=0.001):\n",
    "        # 初始化参数\n",
    "        self.inodes = input_nodes\n",
    "        self.hnodes = hidden_nodes\n",
    "        self.onodes = output_nodes\n",
    "        self.epoch_num = epoch_num\n",
    "        #loss列表\n",
    "        self.Losses =[]\n",
    "        # 定义连接权\n",
    "        # 定义输入层与隐藏层之间的初始权重参数  w-input-hidden\n",
    "        self.wih = np.random.normal(0.0, pow(self.hnodes, -0.5), (self.hnodes, self.inodes))\n",
    "        # 定义隐藏层与输出层之间的初始权重参数  w-hidden-output\n",
    "        self.who = np.random.normal(0.0, pow(self.onodes, -0.5), (self.onodes, self.hnodes))\n",
    "        # 定义输入层与隐藏的bias\n",
    "        self.bih = np.ones((self.hnodes, 1))\n",
    "        # 定义隐藏层与输出层的bias\n",
    "        self.bho = np.ones((self.onodes, 1))\n",
    "        # 学习率\n",
    "        self.lr = learning_rate\n",
    "        # 定义激活函数sigmoid\n",
    "        self.activation_function = sigmoid\n",
    "        pass\n",
    "\n",
    "    def forward_backward(self,iter_count, input_list, target_list):\n",
    "        # 输入层的矩阵\n",
    "        inputs = np.array(input_list, ndmin=2).T\n",
    "        # 目标矩阵\n",
    "        targets = np.array(target_list, ndmin=2).T\n",
    "        # 隐藏层的输入\n",
    "        hidden_inputs = np.dot(self.wih, inputs) + self.bih  # 输入的 x 乘上 input-hidden的权重\n",
    "        # 隐藏层的输出\n",
    "        hidden_outputs = self.activation_function(hidden_inputs)  # 激活函数sigmoid判断隐藏层的结果\n",
    "        # 输出层的输入\n",
    "        final_inputs = np.dot(self.who, hidden_outputs) + self.bho  # 隐藏层输出的 b 乘上 hidden-output的权重\n",
    "        # 输出层的输出\n",
    "        final_outputs = self.activation_function(final_inputs)\n",
    "        # 输出层的错误\n",
    "        output_errors =  final_outputs-targets # (y-y')\n",
    "        # Loss\n",
    "        loss=0.5*(final_outputs-targets)**2\n",
    "        if(iter_count%200==0):\n",
    "            self.Losses.append(loss.mean())\n",
    "        # 隐藏层的错误\n",
    "        hidden_errors = np.dot(self.who.T, (output_errors * final_outputs * (1 - final_outputs)))  # 相当于 W-h-o * g\n",
    "        # 更新迭代初始权重，公式为权重更新公式，原理为导数、梯度下降。\n",
    "        # 输出层与隐藏层权重值改变  = 学习率(lr)* 输出层神经元梯度项(y'(1-y')(y-y'))* 隐藏层的输出(b)\n",
    "        # 隐藏层与输出层权重值改变  = 学习率(lr)* 隐藏层神经元梯度项(b(1-b)(Who*g))* 输入层的输入(x)\n",
    "        self.who -= self.lr * np.dot((output_errors * final_outputs * (1 - final_outputs)),np.transpose(hidden_outputs))\n",
    "        self.bho -= self.lr * (output_errors * final_outputs * (1 - final_outputs))\n",
    "        self.bih -= self.lr * (hidden_errors * hidden_outputs * (1 - hidden_outputs))\n",
    "        self.wih -= self.lr * np.dot((hidden_errors * hidden_outputs * (1 - hidden_outputs)),(np.transpose(inputs)))\n",
    "        pass\n",
    "    \n",
    "    \n",
    "    def train(self,train_x,train_y):\n",
    "        print(\"开始训练:\")\n",
    "        for epoch in range(self.epoch_num):\n",
    "            print(\"第%d个epoch:\"%(epoch+1))\n",
    "            start = time.perf_counter()\n",
    "            for i in range(len(train_x)):\n",
    "                scale = len(train_x)\n",
    "                inputs = ( train_x[i]/ 255 * 0.99) + 0.01 #归一化\n",
    "                y = train_y[i]\n",
    "                targets = np.zeros(output_nodes) + 0.01 #防止由于0值像素引起梯度归零\n",
    "                targets[y] = 0.99\n",
    "                self.forward_backward(i,inputs, targets)\n",
    "                #显示进度条模块\n",
    "                if (i % 100 == 0):\n",
    "                    a = \"*\" * (i // 1200)\n",
    "                    b = \".\" * ((scale - i) // 1200)\n",
    "                    c = (i / scale) * 100\n",
    "                    dur = time.perf_counter() - start\n",
    "                    print(\"\\r{:^3.0f}%[{}->{}]{:.2f}s\".format(c, a, b, dur), end=\"\")\n",
    "            print(\"\\n第%d个epoch结束!\"%(epoch+1))\n",
    "\n",
    "\n",
    "    \n",
    "    def predict(self, inputs_list):\n",
    "        # 输入层的输入\n",
    "        inputs = np.array(inputs_list, ndmin=2).T\n",
    "        # 输入-隐藏的权重*输入层的输入 得到 隐藏层的输入\n",
    "        hidden_inputs = np.dot(self.wih, inputs) + self.bih\n",
    "        # 隐藏层的输入 通过 激活函数 得到 隐藏层的输出\n",
    "        hidden_outputs = self.activation_function(hidden_inputs)\n",
    "        # 隐藏-输出的权重*隐藏层的输出 得到 输出层的输入\n",
    "        final_inputs = np.dot(self.who, hidden_outputs) + self.bho\n",
    "        # 输出层的输入 通过 激活函数 得到 输出层的输出\n",
    "        final_outputs = self.activation_function(final_inputs)\n",
    "        return np.argmax(final_outputs)\n",
    "    \n",
    "    def test(self,test_x,test_y):\n",
    "        correct=0\n",
    "        for i in range(len(test_x)):\n",
    "            correct_label = test_y[i]\n",
    "            inputs = (test_x[i]/ 255 * 0.99) + 0.01 #归一化\n",
    "            pre_label = net.predict(inputs)\n",
    "            correct = correct+1 if pre_label==correct_label else correct\n",
    "        print(\"正确率为:\",str(correct/len(test_x)*100) +'%')"
   ]
  },
  {
   "cell_type": "markdown",
   "metadata": {},
   "source": [
    "# 定义参数以实例化网络模型"
   ]
  },
  {
   "cell_type": "code",
   "execution_count": 38,
   "metadata": {},
   "outputs": [],
   "source": [
    "# 定义epoch\n",
    "epoch = 5\n",
    "# 输入层神经元个数 32x32=784\n",
    "input_nodes = 784 \n",
    "# 隐藏层神经元数量\n",
    "hidden_nodes = 200\n",
    "# 输出层神经元数量\n",
    "output_nodes = 10\n",
    "# 定义学习率\n",
    "learning_rate = 0.1\n",
    "# 创建神经网络实例\n",
    "net = NeuralNetwork(epoch,input_nodes, hidden_nodes, output_nodes, learning_rate)"
   ]
  },
  {
   "cell_type": "markdown",
   "metadata": {},
   "source": [
    "# 训练"
   ]
  },
  {
   "cell_type": "code",
   "execution_count": 39,
   "metadata": {},
   "outputs": [
    {
     "name": "stdout",
     "output_type": "stream",
     "text": [
      "开始训练:\n",
      "第1个epoch:\n",
      "100%[*************************************************->]18.24s\n",
      "第1个epoch结束!\n",
      "第2个epoch:\n",
      "100%[*************************************************->]19.25s\n",
      "第2个epoch结束!\n",
      "第3个epoch:\n",
      "100%[*************************************************->]19.36s\n",
      "第3个epoch结束!\n",
      "第4个epoch:\n",
      "100%[*************************************************->]19.70s\n",
      "第4个epoch结束!\n",
      "第5个epoch:\n",
      "100%[*************************************************->]19.41s\n",
      "第5个epoch结束!\n"
     ]
    }
   ],
   "source": [
    "net.train(train_x,train_y)"
   ]
  },
  {
   "cell_type": "markdown",
   "metadata": {},
   "source": [
    "# 测试"
   ]
  },
  {
   "cell_type": "code",
   "execution_count": 40,
   "metadata": {},
   "outputs": [
    {
     "name": "stdout",
     "output_type": "stream",
     "text": [
      "正确率为: 96.95969596959696%\n"
     ]
    }
   ],
   "source": [
    "net.test(test_x,test_y)"
   ]
  },
  {
   "cell_type": "code",
   "execution_count": null,
   "metadata": {},
   "outputs": [],
   "source": []
  },
  {
   "cell_type": "markdown",
   "metadata": {},
   "source": [
    "# 尝试多组参数"
   ]
  },
  {
   "cell_type": "markdown",
   "metadata": {},
   "source": [
    "## 第一组参数"
   ]
  },
  {
   "cell_type": "code",
   "execution_count": 41,
   "metadata": {},
   "outputs": [
    {
     "name": "stdout",
     "output_type": "stream",
     "text": [
      "开始训练:\n",
      "第1个epoch:\n",
      "100%[*************************************************->]11.16s\n",
      "第1个epoch结束!\n",
      "第2个epoch:\n",
      "100%[*************************************************->]10.94s\n",
      "第2个epoch结束!\n",
      "第3个epoch:\n",
      "100%[*************************************************->]10.32s\n",
      "第3个epoch结束!\n",
      "正确率为: 96.24962496249626%\n"
     ]
    }
   ],
   "source": [
    "# 定义epoch\n",
    "epoch = 3\n",
    "# 输入层神经元个数 32x32=784\n",
    "input_nodes = 784 \n",
    "# 隐藏层神经元数量\n",
    "hidden_nodes = 100\n",
    "# 输出层神经元数量\n",
    "output_nodes = 10\n",
    "# 定义学习率\n",
    "learning_rate = 0.1\n",
    "# 创建神经网络实例\n",
    "net = NeuralNetwork(epoch,input_nodes, hidden_nodes, output_nodes, learning_rate)\n",
    "net.train(train_x,train_y)\n",
    "net.test(test_x,test_y)"
   ]
  },
  {
   "cell_type": "markdown",
   "metadata": {},
   "source": [
    "## 第二组参数"
   ]
  },
  {
   "cell_type": "code",
   "execution_count": 42,
   "metadata": {},
   "outputs": [
    {
     "name": "stdout",
     "output_type": "stream",
     "text": [
      "开始训练:\n",
      "第1个epoch:\n",
      "100%[*************************************************->]18.37s\n",
      "第1个epoch结束!\n",
      "第2个epoch:\n",
      "100%[*************************************************->]18.81s\n",
      "第2个epoch结束!\n",
      "第3个epoch:\n",
      "100%[*************************************************->]18.74s\n",
      "第3个epoch结束!\n",
      "第4个epoch:\n",
      "100%[*************************************************->]18.19s\n",
      "第4个epoch结束!\n",
      "第5个epoch:\n",
      "100%[*************************************************->]18.07s\n",
      "第5个epoch结束!\n",
      "第6个epoch:\n",
      "100%[*************************************************->]18.30s\n",
      "第6个epoch结束!\n",
      "正确率为: 97.24972497249725%\n"
     ]
    }
   ],
   "source": [
    "# 定义epoch\n",
    "epoch = 6\n",
    "# 输入层神经元个数 32x32=784\n",
    "input_nodes = 784 \n",
    "# 隐藏层神经元数量\n",
    "hidden_nodes = 200\n",
    "# 输出层神经元数量\n",
    "output_nodes = 10\n",
    "# 定义学习率\n",
    "learning_rate = 0.1\n",
    "# 创建神经网络实例\n",
    "net = NeuralNetwork(epoch,input_nodes, hidden_nodes, output_nodes, learning_rate)\n",
    "net.train(train_x,train_y)\n",
    "net.test(test_x,test_y)"
   ]
  },
  {
   "cell_type": "markdown",
   "metadata": {},
   "source": [
    "## 第三组参数"
   ]
  },
  {
   "cell_type": "code",
   "execution_count": 43,
   "metadata": {},
   "outputs": [
    {
     "name": "stdout",
     "output_type": "stream",
     "text": [
      "开始训练:\n",
      "第1个epoch:\n",
      "100%[*************************************************->]15.03s\n",
      "第1个epoch结束!\n",
      "第2个epoch:\n",
      "100%[*************************************************->]15.07s\n",
      "第2个epoch结束!\n",
      "第3个epoch:\n",
      "100%[*************************************************->]15.04s\n",
      "第3个epoch结束!\n",
      "第4个epoch:\n",
      "100%[*************************************************->]15.50s\n",
      "第4个epoch结束!\n",
      "第5个epoch:\n",
      "100%[*************************************************->]15.24s\n",
      "第5个epoch结束!\n",
      "第6个epoch:\n",
      "100%[*************************************************->]14.58s\n",
      "第6个epoch结束!\n",
      "第7个epoch:\n",
      "100%[*************************************************->]14.64s\n",
      "第7个epoch结束!\n",
      "第8个epoch:\n",
      "100%[*************************************************->]15.45s\n",
      "第8个epoch结束!\n",
      "第9个epoch:\n",
      "100%[*************************************************->]14.71s\n",
      "第9个epoch结束!\n",
      "第10个epoch:\n",
      "100%[*************************************************->]15.10s\n",
      "第10个epoch结束!\n",
      "正确率为: 97.53975397539753%\n"
     ]
    }
   ],
   "source": [
    "# 定义epoch\n",
    "epoch = 10\n",
    "# 输入层神经元个数 32x32=784\n",
    "input_nodes = 784 \n",
    "# 隐藏层神经元数量\n",
    "hidden_nodes = 150\n",
    "# 输出层神经元数量\n",
    "output_nodes = 10\n",
    "# 定义学习率\n",
    "learning_rate = 0.1\n",
    "# 创建神经网络实例\n",
    "net = NeuralNetwork(epoch,input_nodes, hidden_nodes, output_nodes, learning_rate)\n",
    "net.train(train_x,train_y)\n",
    "net.test(test_x,test_y)"
   ]
  },
  {
   "cell_type": "code",
   "execution_count": null,
   "metadata": {},
   "outputs": [],
   "source": []
  }
 ],
 "metadata": {
  "kernelspec": {
   "display_name": "Python 3",
   "language": "python",
   "name": "python3"
  },
  "language_info": {
   "codemirror_mode": {
    "name": "ipython",
    "version": 3
   },
   "file_extension": ".py",
   "mimetype": "text/x-python",
   "name": "python",
   "nbconvert_exporter": "python",
   "pygments_lexer": "ipython3",
   "version": "3.8.3"
  },
  "toc": {
   "base_numbering": 1,
   "nav_menu": {},
   "number_sections": true,
   "sideBar": true,
   "skip_h1_title": false,
   "title_cell": "Table of Contents",
   "title_sidebar": "Contents",
   "toc_cell": false,
   "toc_position": {},
   "toc_section_display": true,
   "toc_window_display": false
  }
 },
 "nbformat": 4,
 "nbformat_minor": 4
}
