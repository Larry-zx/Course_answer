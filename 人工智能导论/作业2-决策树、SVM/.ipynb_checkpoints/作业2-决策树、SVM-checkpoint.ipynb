{
 "cells": [
  {
   "cell_type": "markdown",
   "metadata": {},
   "source": [
    "# 作业2 - 决策树 & 支持向量机(SVM)\n",
    "\n",
    "在上次作业中，我们利用提取的基本图像特征并使用KNN算法进行图像分类。\n",
    "\n",
    "本次作业，我们将继续利用提取的图像特征并使用__决策树和支持向量机算法__进行图像分类。\n",
    "\n",
    "同样的，__你需要在TODO标注部分填写你的代码。__本次作业我们将使用sklearn中的相关接口。"
   ]
  },
  {
   "cell_type": "code",
   "execution_count": null,
   "metadata": {},
   "outputs": [],
   "source": [
    "import random\n",
    "import numpy as np\n",
    "import matplotlib.pyplot as plt\n",
    "from past.builtins import xrange\n",
    "%matplotlib inline\n",
    "plt.rcParams['figure.figsize'] = (8., 6.) # 设置默认大小\n",
    "plt.rcParams['image.interpolation'] = 'nearest'\n",
    "plt.rcParams['image.cmap'] = 'gray'\n",
    "\n",
    "%load_ext autoreload\n",
    "%autoreload 2"
   ]
  },
  {
   "cell_type": "markdown",
   "metadata": {},
   "source": [
    "## 数据加载"
   ]
  },
  {
   "cell_type": "code",
   "execution_count": null,
   "metadata": {},
   "outputs": [],
   "source": [
    "# 读取提供的cifar10-mini数据集，\n",
    "data = np.load('cifar10-mini.npz')\n",
    "\n",
    "X_train= data['X_train']\n",
    "X_val= data['X_val']\n",
    "X_test= data['X_test']\n",
    "y_train= data['y_train']\n",
    "y_val= data['y_val']\n",
    "y_test= data['y_test']\n",
    "\n",
    "# 打印数据shape\n",
    "print(X_train.shape)\n",
    "print(X_val.shape)\n",
    "print(X_test.shape)"
   ]
  },
  {
   "cell_type": "markdown",
   "metadata": {},
   "source": [
    "## 提取图像特征\n",
    "\n",
    "在本次作业中，我们使用__HOG+颜色直方图__提取的图像特征。\n",
    "\n",
    "这部分和作业1一样，特征提取函数已经封装在features.py中，调用即可。\n",
    "\n",
    "如果你遇到了错误 `ImportError: No module named past.builtins`，可以在终端中执行 `pip install future`"
   ]
  },
  {
   "cell_type": "code",
   "execution_count": null,
   "metadata": {},
   "outputs": [],
   "source": [
    "from features import *\n",
    "\n",
    "# 本次作业不需要修改此部分代码\n",
    "# 选择特征处理函数\n",
    "feature_fns = [hog_feature, color_histogram_hsv] # HOG + 颜色直方图\n",
    "# feature_fns = [color_histogram_hsv] # 颜色直方图\n",
    "# feature_fns = [hog_feature] # HOG\n",
    "\n",
    "X_train_feats = extract_features(X_train, feature_fns)\n",
    "X_val_feats = extract_features(X_val, feature_fns)\n",
    "X_test_feats = extract_features(X_test, feature_fns)\n",
    "    \n",
    "# 预处理: 减去均值\n",
    "mean_feat = np.mean(X_train_feats, axis=0, keepdims=True)\n",
    "X_train_feats -= mean_feat\n",
    "\n",
    "mean_feat = np.mean(X_val_feats, axis=0, keepdims=True)\n",
    "X_val_feats -= mean_feat\n",
    "\n",
    "mean_feat = np.mean(X_test_feats, axis=0, keepdims=True)\n",
    "X_test_feats -= mean_feat\n",
    "\n",
    "# 预处理: 除以标准差，这能保证所有的值在 0～1 之间\n",
    "std_feat = np.std(X_train_feats, axis=0, keepdims=True)\n",
    "X_train_feats /= std_feat\n",
    "\n",
    "std_feat = np.std(X_val_feats, axis=0, keepdims=True)\n",
    "X_val_feats /= std_feat\n",
    "\n",
    "std_feat = np.std(X_test_feats, axis=0, keepdims=True)\n",
    "X_test_feats /= std_feat\n",
    "\n",
    "# 预处理: 增加一个偏置值，在 K-NN 中，该步操作并无必要，但增加偏置值对其他分类器如 SVM 等有帮助。\n",
    "X_train_feats = np.hstack([X_train_feats, np.ones((X_train_feats.shape[0], 1))])\n",
    "X_val_feats = np.hstack([X_val_feats, np.ones((X_val_feats.shape[0], 1))])\n",
    "X_test_feats = np.hstack([X_test_feats, np.ones((X_test_feats.shape[0], 1))])\n",
    "\n",
    "print(X_train_feats.shape)\n",
    "print(X_val_feats.shape)\n",
    "print(X_val_feats.shape)"
   ]
  },
  {
   "cell_type": "markdown",
   "metadata": {},
   "source": [
    "## 使用决策树(Decision Tree)进行分类\n",
    "\n",
    "将__训练集和验证集组合__训练决策树模型，在__测试集__上评估正确率。并查看各类别的__查准率、查全率__等指标。\n",
    "\n",
    "友情链接 - [DecisionTreeClassifier接口说明](https://scikit-learn.org/stable/modules/generated/sklearn.tree.DecisionTreeClassifier.html)"
   ]
  },
  {
   "cell_type": "code",
   "execution_count": null,
   "metadata": {},
   "outputs": [],
   "source": [
    "from sklearn.tree import DecisionTreeClassifier\n",
    "from sklearn.metrics import classification_report\n",
    "\n",
    "#######################################################################\n",
    "# TODO:                                                               #\n",
    "# 通过sklearn库的决策树模型对图像进行分类，并进行结果评估             #\n",
    "#######################################################################\n",
    "\"\"\"你的代码\"\"\"\n",
    "\n",
    "# 组合训练集和验证集\n",
    "# np.concatenate()函数可以组合数据 \n",
    "X_train_val_feats = \n",
    "y_train_val = \n",
    "\n",
    "# 调用DecisionTreeClassifier接口，创建模型。\n",
    "model = \n",
    "\n",
    "# 训练模型，并测试。\n",
    "# 使用模型的\".fit()\"方法进行训练，并用\".predict()\"方法预测。\n",
    "\n",
    "\n",
    "# 查看 查准率、查全率 等指标\n",
    "# classification_report接口可以查看各类别的查准率、查全率等指标\n",
    "\n",
    "\n",
    "#######################################################################\n",
    "#                         END OF YOUR CODE                            #\n",
    "#######################################################################"
   ]
  },
  {
   "cell_type": "markdown",
   "metadata": {},
   "source": [
    "## 使用支持向量机(SVM)进行分类\n",
    "\n",
    "使用__不同的核函数__作为SVM模型的参数，在__训练集__上进行训练，并选择__验证集__上准确率最好的SVM核函数\n",
    "\n",
    "友情链接 - [SVC接口说明](https://scikit-learn.org/stable/modules/generated/sklearn.svm.SVC.html)"
   ]
  },
  {
   "cell_type": "code",
   "execution_count": null,
   "metadata": {},
   "outputs": [],
   "source": [
    "from sklearn.svm import SVC\n",
    "\n",
    "#######################################################################\n",
    "# TODO:                                                               #\n",
    "# 使用不同的核函数作为SVM模型的参数，选择验证集上准确率最好的SVM核函数#\n",
    "#######################################################################\n",
    "\"\"\"你的代码\"\"\"\n",
    "\n",
    "# 提示：核函数的选择可以通过SVC的kernel属性传入\n",
    "# 常见的核函数有'linear','poly','rbf','sigmoid'\n",
    "\n",
    "\n",
    "#######################################################################\n",
    "#                         END OF YOUR CODE                            #\n",
    "#######################################################################"
   ]
  },
  {
   "cell_type": "markdown",
   "metadata": {},
   "source": [
    "将__训练集和验证集组合__训练上面选择的核函数SVM模型，在__测试集__上评估正确率，并查看各类别的__查准率、查全率__等指标"
   ]
  },
  {
   "cell_type": "code",
   "execution_count": null,
   "metadata": {},
   "outputs": [],
   "source": [
    "from sklearn.metrics import classification_report\n",
    "\n",
    "#######################################################################\n",
    "# TODO:                                                               #\n",
    "# 组合训练集和验证集，训练SVM模型，并在测试集上评估                   #\n",
    "#######################################################################\n",
    "\"\"\"你的代码\"\"\"\n",
    "\n",
    "# 组合训练集和验证集\n",
    "# np.concatenate()函数可以组合数据 \n",
    "X_train_val_feats = \n",
    "y_train_val = \n",
    "\n",
    "# 调用SVC接口，并使用上面选择的核函数，创建模型。\n",
    "model = \n",
    "\n",
    "# 训练模型，并测试。\n",
    "# 使用模型的\".fit()\"方法进行训练，并用\".predict()\"方法预测。\n",
    "\n",
    "\n",
    "# 查看 查准率、查全率 等指标\n",
    "# classification_report接口可以查看各类别的查准率、查全率等指标\n",
    "\n",
    "#######################################################################\n",
    "#                         END OF YOUR CODE                            #\n",
    "#######################################################################"
   ]
  },
  {
   "cell_type": "code",
   "execution_count": null,
   "metadata": {},
   "outputs": [],
   "source": []
  }
 ],
 "metadata": {
  "anaconda-cloud": {},
  "kernelspec": {
   "display_name": "Python 3",
   "language": "python",
   "name": "python3"
  },
  "language_info": {
   "codemirror_mode": {
    "name": "ipython",
    "version": 3
   },
   "file_extension": ".py",
   "mimetype": "text/x-python",
   "name": "python",
   "nbconvert_exporter": "python",
   "pygments_lexer": "ipython3",
   "version": "3.7.3"
  },
  "toc": {
   "base_numbering": 1,
   "nav_menu": {},
   "number_sections": true,
   "sideBar": true,
   "skip_h1_title": false,
   "title_cell": "Table of Contents",
   "title_sidebar": "Contents",
   "toc_cell": false,
   "toc_position": {},
   "toc_section_display": true,
   "toc_window_display": false
  }
 },
 "nbformat": 4,
 "nbformat_minor": 1
}
